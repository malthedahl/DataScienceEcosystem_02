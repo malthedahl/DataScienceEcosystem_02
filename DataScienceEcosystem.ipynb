{
 "cells": [
  {
   "cell_type": "markdown",
   "id": "f48a3b71-b1d6-4755-b974-b0133efd617c",
   "metadata": {},
   "source": [
    "## Data Science Tools and Ecosystem"
   ]
  },
  {
   "cell_type": "markdown",
   "id": "96dd79ad-3df6-424c-a319-b92c5ac41093",
   "metadata": {},
   "source": [
    "In this notebook, Data Science Tools and Ecosystem are summarized"
   ]
  },
  {
   "cell_type": "markdown",
   "id": "e8583eaa-4fd7-412a-ae0e-e0eeb7f589f1",
   "metadata": {
    "tags": []
   },
   "source": [
    "__Objectives:__\n",
    "* To describe the function of an API\n",
    "* To list libraries in R and Python\n",
    "* To list popular languages for Data Science\n",
    "* Describe data sets and sources for data"
   ]
  },
  {
   "cell_type": "markdown",
   "id": "907d5f34-e0f0-4a16-9214-96a5bd5bc33b",
   "metadata": {},
   "source": [
    "### Author\n",
    "Malthe Hangaard Dahl"
   ]
  },
  {
   "cell_type": "markdown",
   "id": "9ba20f98-63d1-4804-9b8a-9860b201958c",
   "metadata": {
    "tags": []
   },
   "source": [
    "Here are three of the most commonly used languages for data sciences:\n",
    "1. Python\n",
    "2. R\n",
    "3. Javascript"
   ]
  },
  {
   "cell_type": "markdown",
   "id": "58f76f61-ced7-4c5c-a6dd-694cd088195a",
   "metadata": {
    "tags": []
   },
   "source": [
    "Some of the commonly used libraries used by Data Scientists include:\n",
    "1. Pandas\n",
    "2. NumPy\n",
    "3. Scikit-learn\n",
    "4. Seaborn\n",
    "5. Matplotlib\n",
    "6. Keras\n",
    "7. Tensorflow"
   ]
  },
  {
   "cell_type": "markdown",
   "id": "d6ecbc9b-0b6d-46d0-8ab7-7ab246eb9471",
   "metadata": {},
   "source": [
    "\n",
    "\n",
    "| Data Science Tools |\n",
    "|:--------:|\n",
    "|  R Studio   |\n",
    "|  Jupyter Notebooks   |\n",
    "|  Hadoop |\n"
   ]
  },
  {
   "cell_type": "markdown",
   "id": "5fd1e617-c13f-435c-a5ce-74f51957fcc7",
   "metadata": {},
   "source": [
    "Below are a few examples of evaluating arithmetic expressions in Python"
   ]
  },
  {
   "cell_type": "code",
   "execution_count": 2,
   "id": "6dfe839c-f6ab-407e-be20-386b8810df05",
   "metadata": {
    "tags": []
   },
   "outputs": [
    {
     "data": {
      "text/plain": [
       "17"
      ]
     },
     "execution_count": 2,
     "metadata": {},
     "output_type": "execute_result"
    }
   ],
   "source": [
    "# This is a simple arithmetic expression to multiply then add integers\n",
    "(3*4)+5"
   ]
  },
  {
   "cell_type": "code",
   "execution_count": 3,
   "id": "9f8c1875-f692-49f8-b5b4-812e332915c3",
   "metadata": {
    "tags": []
   },
   "outputs": [
    {
     "data": {
      "text/plain": [
       "3.3333333333333335"
      ]
     },
     "execution_count": 3,
     "metadata": {},
     "output_type": "execute_result"
    }
   ],
   "source": [
    "# This will convert 200 minutes to hours by diving by 60\n",
    "200/60"
   ]
  }
 ],
 "metadata": {
  "kernelspec": {
   "display_name": "Python 3 (ipykernel)",
   "language": "python",
   "name": "python3"
  },
  "language_info": {
   "codemirror_mode": {
    "name": "ipython",
    "version": 3
   },
   "file_extension": ".py",
   "mimetype": "text/x-python",
   "name": "python",
   "nbconvert_exporter": "python",
   "pygments_lexer": "ipython3",
   "version": "3.11.5"
  }
 },
 "nbformat": 4,
 "nbformat_minor": 5
}
